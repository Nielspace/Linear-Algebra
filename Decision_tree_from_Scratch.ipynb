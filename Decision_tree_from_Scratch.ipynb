{
  "nbformat": 4,
  "nbformat_minor": 0,
  "metadata": {
    "colab": {
      "name": "Decision tree from Scratch.ipynb",
      "provenance": [],
      "collapsed_sections": [],
      "include_colab_link": true
    },
    "kernelspec": {
      "name": "python3",
      "display_name": "Python 3"
    },
    "accelerator": "GPU"
  },
  "cells": [
    {
      "cell_type": "markdown",
      "metadata": {
        "id": "view-in-github",
        "colab_type": "text"
      },
      "source": [
        "<a href=\"https://colab.research.google.com/github/Nielspace/Linear-Algebra/blob/master/Decision_tree_from_Scratch.ipynb\" target=\"_parent\"><img src=\"https://colab.research.google.com/assets/colab-badge.svg\" alt=\"Open In Colab\"/></a>"
      ]
    },
    {
      "cell_type": "markdown",
      "metadata": {
        "id": "iJAPuiMdtiEg",
        "colab_type": "text"
      },
      "source": [
        "# Coding a Decision tree from scratch"
      ]
    },
    {
      "cell_type": "code",
      "metadata": {
        "id": "hz2GSyjSu4oM",
        "colab_type": "code",
        "colab": {}
      },
      "source": [
        "import pandas as pd\n",
        "import numpy as np"
      ],
      "execution_count": 0,
      "outputs": []
    },
    {
      "cell_type": "markdown",
      "metadata": {
        "id": "7EJm_bIAt8VV",
        "colab_type": "text"
      },
      "source": [
        "## Collecting the data"
      ]
    },
    {
      "cell_type": "code",
      "metadata": {
        "id": "34Tyeazvt_Me",
        "colab_type": "code",
        "outputId": "a8cb86b3-299a-404c-ec01-1c096c9fc7a3",
        "colab": {
          "base_uri": "https://localhost:8080/",
          "height": 121
        }
      },
      "source": [
        "from google.colab import drive\n",
        "drive.mount('/content/drive')"
      ],
      "execution_count": 3,
      "outputs": [
        {
          "output_type": "stream",
          "text": [
            "Go to this URL in a browser: https://accounts.google.com/o/oauth2/auth?client_id=947318989803-6bn6qk8qdgf4n4g3pfee6491hc0brc4i.apps.googleusercontent.com&redirect_uri=urn%3Aietf%3Awg%3Aoauth%3A2.0%3Aoob&scope=email%20https%3A%2F%2Fwww.googleapis.com%2Fauth%2Fdocs.test%20https%3A%2F%2Fwww.googleapis.com%2Fauth%2Fdrive%20https%3A%2F%2Fwww.googleapis.com%2Fauth%2Fdrive.photos.readonly%20https%3A%2F%2Fwww.googleapis.com%2Fauth%2Fpeopleapi.readonly&response_type=code\n",
            "\n",
            "Enter your authorization code:\n",
            "··········\n",
            "Mounted at /content/drive\n"
          ],
          "name": "stdout"
        }
      ]
    },
    {
      "cell_type": "code",
      "metadata": {
        "id": "Hzg5pk9SuH-e",
        "colab_type": "code",
        "outputId": "2c603ad3-38e6-4985-b0a9-5447787b88ae",
        "colab": {
          "base_uri": "https://localhost:8080/",
          "height": 34
        }
      },
      "source": [
        "%cd drive/My Drive/Data Science"
      ],
      "execution_count": 4,
      "outputs": [
        {
          "output_type": "stream",
          "text": [
            "/content/drive/My Drive/Data Science\n"
          ],
          "name": "stdout"
        }
      ]
    },
    {
      "cell_type": "code",
      "metadata": {
        "id": "PKdYyd2OuRG6",
        "colab_type": "code",
        "colab": {}
      },
      "source": [
        "PATH = 'data-bluebook-for-bulldozers'"
      ],
      "execution_count": 0,
      "outputs": []
    },
    {
      "cell_type": "code",
      "metadata": {
        "id": "Oee-HuNwuuIr",
        "colab_type": "code",
        "outputId": "16f7a543-faec-4a61-ffc8-cc99f8c7fb6e",
        "colab": {
          "base_uri": "https://localhost:8080/",
          "height": 101
        }
      },
      "source": [
        "!ls {PATH}"
      ],
      "execution_count": 6,
      "outputs": [
        {
          "output_type": "stream",
          "text": [
            "'Data Dictionary.xlsx'\t\t    Train.7z\t        Valid.7z\n",
            " Machine_Appendix.csv\t\t    TrainAndValid.7z    Valid.csv\n",
            " median_benchmark.csv\t\t    TrainAndValid.csv   ValidSolution.csv\n",
            " random_forest_benchmark_test.csv   TrainAndValid.zip   Valid.zip\n",
            " Test.csv\t\t\t    Train.csv\n"
          ],
          "name": "stdout"
        }
      ]
    },
    {
      "cell_type": "code",
      "metadata": {
        "id": "YnHnmCrKu0xo",
        "colab_type": "code",
        "outputId": "6a86d4f7-623c-494c-9eac-d65bee78acb1",
        "colab": {
          "base_uri": "https://localhost:8080/",
          "height": 70
        }
      },
      "source": [
        "data = pd.read_csv(f'{PATH}/Train.csv', date_parser=['saledates'], low_memory=True)"
      ],
      "execution_count": 7,
      "outputs": [
        {
          "output_type": "stream",
          "text": [
            "/usr/local/lib/python3.6/dist-packages/IPython/core/interactiveshell.py:2718: DtypeWarning: Columns (13,39,40,41) have mixed types. Specify dtype option on import or set low_memory=False.\n",
            "  interactivity=interactivity, compiler=compiler, result=result)\n"
          ],
          "name": "stderr"
        }
      ]
    },
    {
      "cell_type": "code",
      "metadata": {
        "id": "gvCOGLoEvR-v",
        "colab_type": "code",
        "outputId": "66649e4a-5491-48aa-f454-30b691c6c6b4",
        "colab": {
          "base_uri": "https://localhost:8080/",
          "height": 223
        }
      },
      "source": [
        "data.head(3)"
      ],
      "execution_count": 8,
      "outputs": [
        {
          "output_type": "execute_result",
          "data": {
            "text/html": [
              "<div>\n",
              "<style scoped>\n",
              "    .dataframe tbody tr th:only-of-type {\n",
              "        vertical-align: middle;\n",
              "    }\n",
              "\n",
              "    .dataframe tbody tr th {\n",
              "        vertical-align: top;\n",
              "    }\n",
              "\n",
              "    .dataframe thead th {\n",
              "        text-align: right;\n",
              "    }\n",
              "</style>\n",
              "<table border=\"1\" class=\"dataframe\">\n",
              "  <thead>\n",
              "    <tr style=\"text-align: right;\">\n",
              "      <th></th>\n",
              "      <th>SalesID</th>\n",
              "      <th>SalePrice</th>\n",
              "      <th>MachineID</th>\n",
              "      <th>ModelID</th>\n",
              "      <th>datasource</th>\n",
              "      <th>auctioneerID</th>\n",
              "      <th>YearMade</th>\n",
              "      <th>MachineHoursCurrentMeter</th>\n",
              "      <th>UsageBand</th>\n",
              "      <th>saledate</th>\n",
              "      <th>fiModelDesc</th>\n",
              "      <th>fiBaseModel</th>\n",
              "      <th>fiSecondaryDesc</th>\n",
              "      <th>fiModelSeries</th>\n",
              "      <th>fiModelDescriptor</th>\n",
              "      <th>ProductSize</th>\n",
              "      <th>fiProductClassDesc</th>\n",
              "      <th>state</th>\n",
              "      <th>ProductGroup</th>\n",
              "      <th>ProductGroupDesc</th>\n",
              "      <th>Drive_System</th>\n",
              "      <th>Enclosure</th>\n",
              "      <th>Forks</th>\n",
              "      <th>Pad_Type</th>\n",
              "      <th>Ride_Control</th>\n",
              "      <th>Stick</th>\n",
              "      <th>Transmission</th>\n",
              "      <th>Turbocharged</th>\n",
              "      <th>Blade_Extension</th>\n",
              "      <th>Blade_Width</th>\n",
              "      <th>Enclosure_Type</th>\n",
              "      <th>Engine_Horsepower</th>\n",
              "      <th>Hydraulics</th>\n",
              "      <th>Pushblock</th>\n",
              "      <th>Ripper</th>\n",
              "      <th>Scarifier</th>\n",
              "      <th>Tip_Control</th>\n",
              "      <th>Tire_Size</th>\n",
              "      <th>Coupler</th>\n",
              "      <th>Coupler_System</th>\n",
              "      <th>Grouser_Tracks</th>\n",
              "      <th>Hydraulics_Flow</th>\n",
              "      <th>Track_Type</th>\n",
              "      <th>Undercarriage_Pad_Width</th>\n",
              "      <th>Stick_Length</th>\n",
              "      <th>Thumb</th>\n",
              "      <th>Pattern_Changer</th>\n",
              "      <th>Grouser_Type</th>\n",
              "      <th>Backhoe_Mounting</th>\n",
              "      <th>Blade_Type</th>\n",
              "      <th>Travel_Controls</th>\n",
              "      <th>Differential_Type</th>\n",
              "      <th>Steering_Controls</th>\n",
              "    </tr>\n",
              "  </thead>\n",
              "  <tbody>\n",
              "    <tr>\n",
              "      <th>0</th>\n",
              "      <td>1139246</td>\n",
              "      <td>66000</td>\n",
              "      <td>999089</td>\n",
              "      <td>3157</td>\n",
              "      <td>121</td>\n",
              "      <td>3.0</td>\n",
              "      <td>2004</td>\n",
              "      <td>68.0</td>\n",
              "      <td>Low</td>\n",
              "      <td>11/16/2006 0:00</td>\n",
              "      <td>521D</td>\n",
              "      <td>521</td>\n",
              "      <td>D</td>\n",
              "      <td>NaN</td>\n",
              "      <td>NaN</td>\n",
              "      <td>NaN</td>\n",
              "      <td>Wheel Loader - 110.0 to 120.0 Horsepower</td>\n",
              "      <td>Alabama</td>\n",
              "      <td>WL</td>\n",
              "      <td>Wheel Loader</td>\n",
              "      <td>NaN</td>\n",
              "      <td>EROPS w AC</td>\n",
              "      <td>None or Unspecified</td>\n",
              "      <td>NaN</td>\n",
              "      <td>None or Unspecified</td>\n",
              "      <td>NaN</td>\n",
              "      <td>NaN</td>\n",
              "      <td>NaN</td>\n",
              "      <td>NaN</td>\n",
              "      <td>NaN</td>\n",
              "      <td>NaN</td>\n",
              "      <td>NaN</td>\n",
              "      <td>2 Valve</td>\n",
              "      <td>NaN</td>\n",
              "      <td>NaN</td>\n",
              "      <td>NaN</td>\n",
              "      <td>NaN</td>\n",
              "      <td>None or Unspecified</td>\n",
              "      <td>None or Unspecified</td>\n",
              "      <td>NaN</td>\n",
              "      <td>NaN</td>\n",
              "      <td>NaN</td>\n",
              "      <td>NaN</td>\n",
              "      <td>NaN</td>\n",
              "      <td>NaN</td>\n",
              "      <td>NaN</td>\n",
              "      <td>NaN</td>\n",
              "      <td>NaN</td>\n",
              "      <td>NaN</td>\n",
              "      <td>NaN</td>\n",
              "      <td>NaN</td>\n",
              "      <td>Standard</td>\n",
              "      <td>Conventional</td>\n",
              "    </tr>\n",
              "    <tr>\n",
              "      <th>1</th>\n",
              "      <td>1139248</td>\n",
              "      <td>57000</td>\n",
              "      <td>117657</td>\n",
              "      <td>77</td>\n",
              "      <td>121</td>\n",
              "      <td>3.0</td>\n",
              "      <td>1996</td>\n",
              "      <td>4640.0</td>\n",
              "      <td>Low</td>\n",
              "      <td>3/26/2004 0:00</td>\n",
              "      <td>950FII</td>\n",
              "      <td>950</td>\n",
              "      <td>F</td>\n",
              "      <td>II</td>\n",
              "      <td>NaN</td>\n",
              "      <td>Medium</td>\n",
              "      <td>Wheel Loader - 150.0 to 175.0 Horsepower</td>\n",
              "      <td>North Carolina</td>\n",
              "      <td>WL</td>\n",
              "      <td>Wheel Loader</td>\n",
              "      <td>NaN</td>\n",
              "      <td>EROPS w AC</td>\n",
              "      <td>None or Unspecified</td>\n",
              "      <td>NaN</td>\n",
              "      <td>None or Unspecified</td>\n",
              "      <td>NaN</td>\n",
              "      <td>NaN</td>\n",
              "      <td>NaN</td>\n",
              "      <td>NaN</td>\n",
              "      <td>NaN</td>\n",
              "      <td>NaN</td>\n",
              "      <td>NaN</td>\n",
              "      <td>2 Valve</td>\n",
              "      <td>NaN</td>\n",
              "      <td>NaN</td>\n",
              "      <td>NaN</td>\n",
              "      <td>NaN</td>\n",
              "      <td>23.5</td>\n",
              "      <td>None or Unspecified</td>\n",
              "      <td>NaN</td>\n",
              "      <td>NaN</td>\n",
              "      <td>NaN</td>\n",
              "      <td>NaN</td>\n",
              "      <td>NaN</td>\n",
              "      <td>NaN</td>\n",
              "      <td>NaN</td>\n",
              "      <td>NaN</td>\n",
              "      <td>NaN</td>\n",
              "      <td>NaN</td>\n",
              "      <td>NaN</td>\n",
              "      <td>NaN</td>\n",
              "      <td>Standard</td>\n",
              "      <td>Conventional</td>\n",
              "    </tr>\n",
              "    <tr>\n",
              "      <th>2</th>\n",
              "      <td>1139249</td>\n",
              "      <td>10000</td>\n",
              "      <td>434808</td>\n",
              "      <td>7009</td>\n",
              "      <td>121</td>\n",
              "      <td>3.0</td>\n",
              "      <td>2001</td>\n",
              "      <td>2838.0</td>\n",
              "      <td>High</td>\n",
              "      <td>2/26/2004 0:00</td>\n",
              "      <td>226</td>\n",
              "      <td>226</td>\n",
              "      <td>NaN</td>\n",
              "      <td>NaN</td>\n",
              "      <td>NaN</td>\n",
              "      <td>NaN</td>\n",
              "      <td>Skid Steer Loader - 1351.0 to 1601.0 Lb Operat...</td>\n",
              "      <td>New York</td>\n",
              "      <td>SSL</td>\n",
              "      <td>Skid Steer Loaders</td>\n",
              "      <td>NaN</td>\n",
              "      <td>OROPS</td>\n",
              "      <td>None or Unspecified</td>\n",
              "      <td>NaN</td>\n",
              "      <td>NaN</td>\n",
              "      <td>NaN</td>\n",
              "      <td>NaN</td>\n",
              "      <td>NaN</td>\n",
              "      <td>NaN</td>\n",
              "      <td>NaN</td>\n",
              "      <td>NaN</td>\n",
              "      <td>NaN</td>\n",
              "      <td>Auxiliary</td>\n",
              "      <td>NaN</td>\n",
              "      <td>NaN</td>\n",
              "      <td>NaN</td>\n",
              "      <td>NaN</td>\n",
              "      <td>NaN</td>\n",
              "      <td>None or Unspecified</td>\n",
              "      <td>None or Unspecified</td>\n",
              "      <td>None or Unspecified</td>\n",
              "      <td>Standard</td>\n",
              "      <td>NaN</td>\n",
              "      <td>NaN</td>\n",
              "      <td>NaN</td>\n",
              "      <td>NaN</td>\n",
              "      <td>NaN</td>\n",
              "      <td>NaN</td>\n",
              "      <td>NaN</td>\n",
              "      <td>NaN</td>\n",
              "      <td>NaN</td>\n",
              "      <td>NaN</td>\n",
              "      <td>NaN</td>\n",
              "    </tr>\n",
              "  </tbody>\n",
              "</table>\n",
              "</div>"
            ],
            "text/plain": [
              "   SalesID  SalePrice  ...  Differential_Type  Steering_Controls\n",
              "0  1139246      66000  ...           Standard       Conventional\n",
              "1  1139248      57000  ...           Standard       Conventional\n",
              "2  1139249      10000  ...                NaN                NaN\n",
              "\n",
              "[3 rows x 53 columns]"
            ]
          },
          "metadata": {
            "tags": []
          },
          "execution_count": 8
        }
      ]
    },
    {
      "cell_type": "markdown",
      "metadata": {
        "id": "nLS-_HE1xd4x",
        "colab_type": "text"
      },
      "source": [
        "## Cleaning the data"
      ]
    },
    {
      "cell_type": "code",
      "metadata": {
        "id": "6Lwie5I-T6Tf",
        "colab_type": "code",
        "colab": {}
      },
      "source": [
        "data = data[:100]"
      ],
      "execution_count": 0,
      "outputs": []
    },
    {
      "cell_type": "code",
      "metadata": {
        "id": "bR9ztAPGUERP",
        "colab_type": "code",
        "colab": {
          "base_uri": "https://localhost:8080/",
          "height": 34
        },
        "outputId": "2adf9b7a-896c-47de-f8fb-c00e0e9b25ed"
      },
      "source": [
        "data.shape"
      ],
      "execution_count": 21,
      "outputs": [
        {
          "output_type": "execute_result",
          "data": {
            "text/plain": [
              "(100, 53)"
            ]
          },
          "metadata": {
            "tags": []
          },
          "execution_count": 21
        }
      ]
    },
    {
      "cell_type": "code",
      "metadata": {
        "id": "GpPo5Wjdwdqn",
        "colab_type": "code",
        "colab": {}
      },
      "source": [
        "def assigning_categorical(data, column):\n",
        "    categories = []\n",
        "    for i in data[column].unique():\n",
        "        categories.append(i)\n",
        "    try:    \n",
        "        categories.remove(np.nan)\n",
        "    except Exception as e:\n",
        "        pass\n",
        "    data[column+'_new'] = pd.Categorical(data[column], categories=categories, ordered=True).codes\n",
        "    data.drop(f'{column}', axis=1, inplace = True)\n",
        "    data.replace(-1, np.nan, inplace=True)"
      ],
      "execution_count": 0,
      "outputs": []
    },
    {
      "cell_type": "code",
      "metadata": {
        "id": "laMTaqz7whuP",
        "colab_type": "code",
        "colab": {}
      },
      "source": [
        "for i in data.columns:\n",
        "    if data[i].dtype == 'O':\n",
        "        try:\n",
        "            assigning_categorical(data, i)\n",
        "        except Exception as e:\n",
        "            pass"
      ],
      "execution_count": 0,
      "outputs": []
    },
    {
      "cell_type": "code",
      "metadata": {
        "id": "dFVGEf1rxSAw",
        "colab_type": "code",
        "colab": {
          "base_uri": "https://localhost:8080/",
          "height": 118
        },
        "outputId": "a0c44864-f108-43c8-be08-f078a6b81311"
      },
      "source": [
        "data.SalePrice = np.log(data.SalePrice)"
      ],
      "execution_count": 24,
      "outputs": [
        {
          "output_type": "stream",
          "text": [
            "/usr/local/lib/python3.6/dist-packages/pandas/core/generic.py:5096: SettingWithCopyWarning: \n",
            "A value is trying to be set on a copy of a slice from a DataFrame.\n",
            "Try using .loc[row_indexer,col_indexer] = value instead\n",
            "\n",
            "See the caveats in the documentation: http://pandas.pydata.org/pandas-docs/stable/indexing.html#indexing-view-versus-copy\n",
            "  self[name] = value\n"
          ],
          "name": "stderr"
        }
      ]
    },
    {
      "cell_type": "code",
      "metadata": {
        "id": "nlxTKBFqxYLZ",
        "colab_type": "code",
        "colab": {
          "base_uri": "https://localhost:8080/",
          "height": 823
        },
        "outputId": "98ef9cd8-0894-40ec-8dda-59af13aec7bf"
      },
      "source": [
        "for i in data.columns:\n",
        "    data[i] = data[i].fillna(data[i].median())"
      ],
      "execution_count": 25,
      "outputs": [
        {
          "output_type": "stream",
          "text": [
            "/usr/local/lib/python3.6/dist-packages/ipykernel_launcher.py:2: SettingWithCopyWarning: \n",
            "A value is trying to be set on a copy of a slice from a DataFrame.\n",
            "Try using .loc[row_indexer,col_indexer] = value instead\n",
            "\n",
            "See the caveats in the documentation: http://pandas.pydata.org/pandas-docs/stable/indexing.html#indexing-view-versus-copy\n",
            "  \n",
            "/usr/local/lib/python3.6/dist-packages/ipykernel_launcher.py:2: SettingWithCopyWarning: \n",
            "A value is trying to be set on a copy of a slice from a DataFrame.\n",
            "Try using .loc[row_indexer,col_indexer] = value instead\n",
            "\n",
            "See the caveats in the documentation: http://pandas.pydata.org/pandas-docs/stable/indexing.html#indexing-view-versus-copy\n",
            "  \n",
            "/usr/local/lib/python3.6/dist-packages/ipykernel_launcher.py:2: SettingWithCopyWarning: \n",
            "A value is trying to be set on a copy of a slice from a DataFrame.\n",
            "Try using .loc[row_indexer,col_indexer] = value instead\n",
            "\n",
            "See the caveats in the documentation: http://pandas.pydata.org/pandas-docs/stable/indexing.html#indexing-view-versus-copy\n",
            "  \n",
            "/usr/local/lib/python3.6/dist-packages/ipykernel_launcher.py:2: SettingWithCopyWarning: \n",
            "A value is trying to be set on a copy of a slice from a DataFrame.\n",
            "Try using .loc[row_indexer,col_indexer] = value instead\n",
            "\n",
            "See the caveats in the documentation: http://pandas.pydata.org/pandas-docs/stable/indexing.html#indexing-view-versus-copy\n",
            "  \n",
            "/usr/local/lib/python3.6/dist-packages/ipykernel_launcher.py:2: SettingWithCopyWarning: \n",
            "A value is trying to be set on a copy of a slice from a DataFrame.\n",
            "Try using .loc[row_indexer,col_indexer] = value instead\n",
            "\n",
            "See the caveats in the documentation: http://pandas.pydata.org/pandas-docs/stable/indexing.html#indexing-view-versus-copy\n",
            "  \n",
            "/usr/local/lib/python3.6/dist-packages/ipykernel_launcher.py:2: SettingWithCopyWarning: \n",
            "A value is trying to be set on a copy of a slice from a DataFrame.\n",
            "Try using .loc[row_indexer,col_indexer] = value instead\n",
            "\n",
            "See the caveats in the documentation: http://pandas.pydata.org/pandas-docs/stable/indexing.html#indexing-view-versus-copy\n",
            "  \n",
            "/usr/local/lib/python3.6/dist-packages/ipykernel_launcher.py:2: SettingWithCopyWarning: \n",
            "A value is trying to be set on a copy of a slice from a DataFrame.\n",
            "Try using .loc[row_indexer,col_indexer] = value instead\n",
            "\n",
            "See the caveats in the documentation: http://pandas.pydata.org/pandas-docs/stable/indexing.html#indexing-view-versus-copy\n",
            "  \n",
            "/usr/local/lib/python3.6/dist-packages/ipykernel_launcher.py:2: SettingWithCopyWarning: \n",
            "A value is trying to be set on a copy of a slice from a DataFrame.\n",
            "Try using .loc[row_indexer,col_indexer] = value instead\n",
            "\n",
            "See the caveats in the documentation: http://pandas.pydata.org/pandas-docs/stable/indexing.html#indexing-view-versus-copy\n",
            "  \n"
          ],
          "name": "stderr"
        }
      ]
    },
    {
      "cell_type": "markdown",
      "metadata": {
        "id": "ohtA2MgjxnPn",
        "colab_type": "text"
      },
      "source": [
        "## Splitiing the data"
      ]
    },
    {
      "cell_type": "code",
      "metadata": {
        "id": "wYvwR7L37egl",
        "colab_type": "code",
        "colab": {}
      },
      "source": [
        "def data_np(data): \n",
        "  \"\"\"This will convert the pandas dataframe into a numpy array\"\"\"\n",
        "  return data.values"
      ],
      "execution_count": 0,
      "outputs": []
    },
    {
      "cell_type": "code",
      "metadata": {
        "id": "_VK1TfNr74He",
        "colab_type": "code",
        "colab": {}
      },
      "source": [
        "data_val = data_np(data)"
      ],
      "execution_count": 0,
      "outputs": []
    },
    {
      "cell_type": "code",
      "metadata": {
        "id": "t7d02A-g9vq0",
        "colab_type": "code",
        "colab": {}
      },
      "source": [
        "X = data.drop('SalePrice', axis=1)\n",
        "X = X.values\n",
        "y = data.SalePrice"
      ],
      "execution_count": 0,
      "outputs": []
    },
    {
      "cell_type": "code",
      "metadata": {
        "id": "hAJpaWlY6YX2",
        "colab_type": "code",
        "colab": {}
      },
      "source": [
        "def get_potential_splits(data):\n",
        "    \n",
        "    potential_splits = {}\n",
        "    _, n_columns = data.shape\n",
        "    for column_index in range(n_columns):    \n",
        "        values = data[:, column_index]\n",
        "        unique_values = np.unique(values)\n",
        "        \n",
        "        potential_splits[column_index] = unique_values\n",
        "    \n",
        "    return potential_splits"
      ],
      "execution_count": 0,
      "outputs": []
    },
    {
      "cell_type": "code",
      "metadata": {
        "id": "AKWs9D2U95-t",
        "colab_type": "code",
        "colab": {
          "base_uri": "https://localhost:8080/",
          "height": 1000
        },
        "outputId": "c9fde8a2-43de-4521-f2b9-50beb15c7d83"
      },
      "source": [
        "pot = get_potential_splits(X)\n",
        "pot"
      ],
      "execution_count": 30,
      "outputs": [
        {
          "output_type": "execute_result",
          "data": {
            "text/plain": [
              "{0: array([1139246., 1139248., 1139249., 1139251., 1139253., 1139255.,\n",
              "        1139256., 1139261., 1139272., 1139275., 1139278., 1139282.,\n",
              "        1139283., 1139284., 1139290., 1139291., 1139292., 1139299.,\n",
              "        1139301., 1139304., 1139311., 1139333., 1139344., 1139346.,\n",
              "        1139348., 1139351., 1139354., 1139356., 1139357., 1139358.,\n",
              "        1139363., 1139365., 1139367., 1139369., 1139379., 1139382.,\n",
              "        1139390., 1139398., 1139401., 1139409., 1139412., 1139413.,\n",
              "        1139415., 1139418., 1139421., 1139423., 1139424., 1139426.,\n",
              "        1139429., 1139432., 1139445., 1139449., 1139450., 1139451.,\n",
              "        1139455., 1139456., 1139457., 1139459., 1139461., 1139463.,\n",
              "        1139464., 1139465., 1139469., 1139473., 1139476., 1139479.,\n",
              "        1139480., 1139481., 1139482., 1139484., 1139487., 1139488.,\n",
              "        1139489., 1139490., 1139493., 1139496., 1139501., 1139502.,\n",
              "        1139508., 1139512., 1139513., 1139514., 1139515., 1139518.,\n",
              "        1139519., 1139526., 1139528., 1139531., 1139532., 1139535.,\n",
              "        1139536., 1139539., 1139540., 1139541., 1139542., 1139543.,\n",
              "        1139545., 1139546., 1139547., 1139550.]),\n",
              " 1: array([  44800.,   62171.,   70214.,  108090.,  115392.,  117657.,\n",
              "         125790.,  138847.,  273291.,  294562.,  318203.,  319906.,\n",
              "         332277.,  362075.,  404336.,  434808.,  450508.,  565440.,\n",
              "         571708.,  616902.,  625882.,  697529.,  742947.,  762683.,\n",
              "         772701.,  821452.,  833838.,  871201.,  876671.,  877241.,\n",
              "         882909.,  902002.,  973717.,  980151.,  982928.,  999089.,\n",
              "         999090.,  999192.,  999442., 1001274., 1002296., 1002713.,\n",
              "        1003012., 1004127., 1004810., 1007166., 1008075., 1010707.,\n",
              "        1011114., 1011478., 1011821., 1011914., 1012428., 1014135.,\n",
              "        1014876., 1015565., 1015814., 1016474., 1018076., 1018704.,\n",
              "        1024992., 1024998., 1025088., 1026282., 1026462., 1026470.,\n",
              "        1026973., 1029569., 1029708., 1029997., 1030896., 1031217.,\n",
              "        1033597., 1036100., 1036251., 1042584., 1042645., 1044500.,\n",
              "        1045512., 1048655., 1048704., 1050658., 1052214., 1052606.,\n",
              "        1053081., 1054162., 1054302., 1054383., 1057373., 1058450.,\n",
              "        1058869., 1059046., 1060419., 1062393., 1063011., 1065636.,\n",
              "        1066239., 1066661., 1068082., 1068548.]),\n",
              " 2: array([   77.,    85.,   112.,   332.,   506.,   663.,  1078.,  1088.,\n",
              "         1129.,  1130.,  1192.,  1263.,  1269.,  1333.,  1571.,  1830.,\n",
              "         1918.,  1937.,  1954.,  2140.,  2232.,  2797.,  3157.,  3166.,\n",
              "         3171.,  3177.,  3217.,  3282.,  3350.,  3357.,  3362.,  3409.,\n",
              "         3423.,  3539.,  3542.,  3783.,  3807.,  3877.,  3883.,  4116.,\n",
              "         4604.,  4605.,  4606.,  4789.,  4794.,  4806.,  4818.,  5162.,\n",
              "         5255.,  5273.,  5766.,  5853.,  6270.,  7002.,  7009.,  7014.,\n",
              "         7040.,  7043.,  7110.,  7277.,  7944.,  8867.,  8988.,  9109.,\n",
              "         9510.,  9560.,  9566.,  9569., 11982., 13247., 13395., 13776.,\n",
              "        13792., 14411., 17188., 17311., 18588., 18604., 19167., 21442.,\n",
              "        22074., 23937., 25458., 28561., 28741., 28920., 36003.]),\n",
              " 3: array([121.]),\n",
              " 4: array([3.]),\n",
              " 5: array([1000., 1980., 1984., 1988., 1991., 1993., 1995., 1996., 1998.,\n",
              "        1999., 2000., 2001., 2002., 2003., 2004., 2005., 2006., 2007.,\n",
              "        2008.]),\n",
              " 6: array([    0.,    68.,   109.,   195.,   242.,   244.,   302.,   320.,\n",
              "          350.,   356.,   508.,   587.,   649.,   678.,   701.,   722.,\n",
              "          761.,   764.,   765.,   904.,   953.,   994.,  1028.,  1056.,\n",
              "         1125.,  1268.,  1290.,  1414.,  1457.,  1498.,  1788.,  1877.,\n",
              "         1894.,  1921.,  1971.,  1972.,  2026.,  2032.,  2097.,  2128.,\n",
              "         2223.,  2413.,  2425.,  2450.,  2565.,  2764.,  2838.,  2842.,\n",
              "         3032.,  3186.,  3259.,  3486.,  3511.,  3576.,  3817.,  3981.,\n",
              "         4032.,  4339.,  4640.,  4723.,  4841.,  4883.,  5074.,  5383.,\n",
              "         5396.,  5428.,  5516.,  5646.,  6718.,  7345.,  7542.,  7793.,\n",
              "         8005.,  8175.,  8270.,  8281.,  8421.,  9052.,  9987., 10101.,\n",
              "        10466., 11121., 11540., 15633., 16328., 17033., 20700., 23838.,\n",
              "        24794.]),\n",
              " 7: array([0., 1., 2.]),\n",
              " 8: array([ 0.,  1.,  2.,  3.,  4.,  5.,  6.,  7.,  8.,  9., 10., 11., 12.,\n",
              "        13., 14., 15., 16., 17., 18., 19., 20., 21., 22., 23., 24., 25.,\n",
              "        26., 27., 28., 29., 30., 31., 32., 33., 34., 35., 36., 37., 38.,\n",
              "        39., 40., 41., 42., 43., 44., 45., 46., 47., 48., 49., 50., 51.,\n",
              "        52., 53., 54., 55., 56., 57., 58., 59., 60., 61., 62., 63., 64.,\n",
              "        65., 66., 67., 68., 69.]),\n",
              " 9: array([ 0.,  1.,  2.,  3.,  4.,  5.,  6.,  7.,  8.,  9., 10., 11., 12.,\n",
              "        13., 14., 15., 16., 17., 18., 19., 20., 21., 22., 23., 24., 25.,\n",
              "        26., 27., 28., 29., 30., 31., 32., 33., 34., 35., 36., 37., 38.,\n",
              "        39., 40., 41., 42., 43., 44., 45., 46., 47., 48., 49., 50., 51.,\n",
              "        52., 53., 54., 55., 56., 57., 58., 59., 60., 61., 62., 63., 64.,\n",
              "        65., 66., 67., 68., 69., 70., 71., 72., 73., 74., 75., 76., 77.,\n",
              "        78., 79., 80., 81., 82., 83., 84., 85., 86.]),\n",
              " 10: array([ 0.,  1.,  2.,  3.,  4.,  5.,  6.,  7.,  8.,  9., 10., 11., 12.,\n",
              "        13., 14., 15., 16., 17., 18., 19., 20., 21., 22., 23., 24., 25.,\n",
              "        26., 27., 28., 29., 30., 31., 32., 33., 34., 35., 36., 37., 38.,\n",
              "        39., 40., 41., 42., 43., 44., 45., 46., 47., 48., 49., 50., 51.,\n",
              "        52., 53., 54., 55., 56., 57., 58., 59., 60., 61., 62., 63., 64.,\n",
              "        65., 66., 67., 68., 69., 70.]),\n",
              " 11: array([ 0.,  1.,  2.,  3.,  4.,  5.,  6.,  7.,  8.,  9., 10., 11., 12.,\n",
              "        13., 14., 15., 16., 17., 18., 19., 20.]),\n",
              " 12: array([0., 1., 2., 3., 4., 5., 6., 7., 8.]),\n",
              " 13: array([0., 1., 2., 3., 4., 5., 6., 7.]),\n",
              " 14: array([0., 1., 2., 3., 4., 5.]),\n",
              " 15: array([ 0.,  1.,  2.,  3.,  4.,  5.,  6.,  7.,  8.,  9., 10., 11., 12.,\n",
              "        13., 14., 15., 16., 17., 18., 19., 20., 21., 22., 23., 24., 25.,\n",
              "        26., 27., 28., 29., 30., 31., 32., 33., 34., 35., 36., 37., 38.,\n",
              "        39., 40.]),\n",
              " 16: array([ 0.,  1.,  2.,  3.,  4.,  5.,  6.,  7.,  8.,  9., 10., 11., 12.,\n",
              "        13., 14., 15., 16., 17., 18., 19., 20., 21., 22., 23., 24., 25.,\n",
              "        26., 27., 28., 29., 30., 31., 32., 33., 34., 35.]),\n",
              " 17: array([0., 1., 2., 3., 4., 5.]),\n",
              " 18: array([0., 1., 2., 3., 4., 5.]),\n",
              " 19: array([0., 1., 2., 3.]),\n",
              " 20: array([0., 1., 2.]),\n",
              " 21: array([0., 1.]),\n",
              " 22: array([0., 1., 2.]),\n",
              " 23: array([0., 1., 2.]),\n",
              " 24: array([0., 1.]),\n",
              " 25: array([0., 1., 2., 3., 4.]),\n",
              " 26: array([0., 1.]),\n",
              " 27: array([0., 1.]),\n",
              " 28: array([0., 1., 2.]),\n",
              " 29: array([0., 1.]),\n",
              " 30: array([0., 1.]),\n",
              " 31: array([0., 1., 2., 3., 4., 5., 6.]),\n",
              " 32: array([0., 1.]),\n",
              " 33: array([0., 1., 2.]),\n",
              " 34: array([0., 1.]),\n",
              " 35: array([0., 1.]),\n",
              " 36: array([0., 1., 2., 3., 4., 5., 6., 7.]),\n",
              " 37: array([0., 1., 2.]),\n",
              " 38: array([0., 1.]),\n",
              " 39: array([0., 1.]),\n",
              " 40: array([0.]),\n",
              " 41: array([0., 1.]),\n",
              " 42: array([0., 1., 2., 3., 4.]),\n",
              " 43: array([0., 1., 2., 3.]),\n",
              " 44: array([0., 1., 2.]),\n",
              " 45: array([0., 1.]),\n",
              " 46: array([0., 1.]),\n",
              " 47: array([0.]),\n",
              " 48: array([0., 1.]),\n",
              " 49: array([0.]),\n",
              " 50: array([0.]),\n",
              " 51: array([0.])}"
            ]
          },
          "metadata": {
            "tags": []
          },
          "execution_count": 30
        }
      ]
    },
    {
      "cell_type": "code",
      "metadata": {
        "id": "mT3OA2aO-Czi",
        "colab_type": "code",
        "colab": {}
      },
      "source": [
        "def split_data(data, split_column, split_value, type_of_feature='continuous'):\n",
        "    \n",
        "    split_column_values = data[:, split_column]\n",
        "\n",
        "    if type_of_feature == \"continuous\":\n",
        "        data_true = data[split_column_values <= split_value]\n",
        "        data_false = data[split_column_values >  split_value]\n",
        "    \n",
        "    # feature is categorical   \n",
        "    else:\n",
        "        pass\n",
        "    \n",
        "    return data_true, data_false"
      ],
      "execution_count": 0,
      "outputs": []
    },
    {
      "cell_type": "code",
      "metadata": {
        "id": "ZSsX-adu_L_1",
        "colab_type": "code",
        "colab": {}
      },
      "source": [
        "db, da = split_data(X,49,0.5)"
      ],
      "execution_count": 0,
      "outputs": []
    },
    {
      "cell_type": "code",
      "metadata": {
        "id": "AZjNQ_jv_VSQ",
        "colab_type": "code",
        "outputId": "78adb94b-111a-4e6d-dfc7-2ab695fa2ef3",
        "colab": {
          "base_uri": "https://localhost:8080/",
          "height": 252
        }
      },
      "source": [
        "db,da"
      ],
      "execution_count": 33,
      "outputs": [
        {
          "output_type": "execute_result",
          "data": {
            "text/plain": [
              "(array([[1.139246e+06, 9.990890e+05, 3.157000e+03, ..., 0.000000e+00,\n",
              "         0.000000e+00, 0.000000e+00],\n",
              "        [1.139248e+06, 1.176570e+05, 7.700000e+01, ..., 0.000000e+00,\n",
              "         0.000000e+00, 0.000000e+00],\n",
              "        [1.139249e+06, 4.348080e+05, 7.009000e+03, ..., 0.000000e+00,\n",
              "         0.000000e+00, 0.000000e+00],\n",
              "        ...,\n",
              "        [1.139546e+06, 1.031217e+06, 4.789000e+03, ..., 0.000000e+00,\n",
              "         0.000000e+00, 0.000000e+00],\n",
              "        [1.139547e+06, 3.322770e+05, 1.571000e+03, ..., 0.000000e+00,\n",
              "         0.000000e+00, 0.000000e+00],\n",
              "        [1.139550e+06, 6.217100e+04, 1.377600e+04, ..., 0.000000e+00,\n",
              "         0.000000e+00, 0.000000e+00]]),\n",
              " array([], shape=(0, 52), dtype=float64))"
            ]
          },
          "metadata": {
            "tags": []
          },
          "execution_count": 33
        }
      ]
    },
    {
      "cell_type": "code",
      "metadata": {
        "id": "ZT0SoAuwCZ4S",
        "colab_type": "code",
        "colab": {}
      },
      "source": [
        "def calculate_mse(data):\n",
        "    actual_values = data[:]\n",
        "    if len(actual_values) == 0:   # empty data\n",
        "        mse = 0\n",
        "        \n",
        "    else:\n",
        "        prediction = np.mean(actual_values)\n",
        "        mse = np.mean((actual_values - prediction) **2)\n",
        "    \n",
        "    return mse"
      ],
      "execution_count": 0,
      "outputs": []
    },
    {
      "cell_type": "code",
      "metadata": {
        "id": "OrxGPnDJCfQv",
        "colab_type": "code",
        "outputId": "12f87a0f-c0b6-4ebd-a8df-47fe6ce031a4",
        "colab": {
          "base_uri": "https://localhost:8080/",
          "height": 34
        }
      },
      "source": [
        "calculate_mse(X)"
      ],
      "execution_count": 35,
      "outputs": [
        {
          "output_type": "execute_result",
          "data": {
            "text/plain": [
              "39290855156.65577"
            ]
          },
          "metadata": {
            "tags": []
          },
          "execution_count": 35
        }
      ]
    },
    {
      "cell_type": "code",
      "metadata": {
        "id": "6Khh56W4Di8y",
        "colab_type": "code",
        "colab": {}
      },
      "source": [
        "def calculate_overall_metric(data_below, data_above, metric_function):\n",
        "    \n",
        "    n = len(data_below) + len(data_above)\n",
        "    p_data_below = len(data_below) / n\n",
        "    p_data_above = len(data_above) / n\n",
        "\n",
        "    overall_metric =  (p_data_below * metric_function(data_below) \n",
        "                     + p_data_above * metric_function(data_above))\n",
        "    \n",
        "    return overall_metric"
      ],
      "execution_count": 0,
      "outputs": []
    },
    {
      "cell_type": "code",
      "metadata": {
        "id": "fXxgZVEMDnV7",
        "colab_type": "code",
        "outputId": "03d16472-ab28-40f6-986b-fe9f16d41c9b",
        "colab": {
          "base_uri": "https://localhost:8080/",
          "height": 34
        }
      },
      "source": [
        "calculate_overall_metric(db,da,calculate_mse)"
      ],
      "execution_count": 37,
      "outputs": [
        {
          "output_type": "execute_result",
          "data": {
            "text/plain": [
              "39290855156.65576"
            ]
          },
          "metadata": {
            "tags": []
          },
          "execution_count": 37
        }
      ]
    },
    {
      "cell_type": "code",
      "metadata": {
        "id": "g8s49sW5_s_k",
        "colab_type": "code",
        "colab": {}
      },
      "source": [
        "def determine_best_split(data, potential_splits, ml_task):\n",
        "    \n",
        "    first_iteration = True\n",
        "    for column_index in potential_splits:\n",
        "        for value in potential_splits[column_index]:\n",
        "            data_below, data_above = split_data(data, split_column=column_index, split_value=value)\n",
        "            \n",
        "            if ml_task == \"regression\":\n",
        "                current_overall_metric = calculate_overall_metric(data_below, data_above, metric_function=calculate_mse)\n",
        "            \n",
        "            # classification\n",
        "            else:\n",
        "                current_overall_metric = calculate_overall_metric(data_below, data_above, metric_function=calculate_entropy)\n",
        "\n",
        "            if first_iteration or current_overall_metric <= best_overall_metric:\n",
        "                first_iteration = False\n",
        "                \n",
        "                best_overall_metric = current_overall_metric\n",
        "                best_split_column = column_index\n",
        "                best_split_value = value\n",
        "    \n",
        "    return best_split_column, best_split_value"
      ],
      "execution_count": 0,
      "outputs": []
    },
    {
      "cell_type": "code",
      "metadata": {
        "id": "xAawhsiwBVeB",
        "colab_type": "code",
        "outputId": "a24e595a-9060-4bd6-8ece-979543ea9b09",
        "colab": {
          "base_uri": "https://localhost:8080/",
          "height": 403
        }
      },
      "source": [
        "for i in pot:\n",
        "        for value in pot[i]:\n",
        "            data_below, data_above = split_data(X, split_column=i, split_value=value)\n",
        "            print(data_below, data_above)\n",
        "            break\n",
        "        break"
      ],
      "execution_count": 0,
      "outputs": [
        {
          "output_type": "stream",
          "text": [
            "[[1.139246e+06 9.990890e+05 3.157000e+03 1.210000e+02 3.000000e+00\n",
            "  2.004000e+03 6.800000e+01 0.000000e+00 0.000000e+00 0.000000e+00\n",
            "  0.000000e+00 0.000000e+00 4.000000e+00 6.000000e+00 2.000000e+00\n",
            "  0.000000e+00 0.000000e+00 0.000000e+00 0.000000e+00 1.000000e+00\n",
            "  0.000000e+00 0.000000e+00 0.000000e+00 0.000000e+00 1.000000e+00\n",
            "  1.000000e+00 0.000000e+00 1.000000e+00 1.000000e+00 0.000000e+00\n",
            "  0.000000e+00 0.000000e+00 0.000000e+00 0.000000e+00 1.000000e+00\n",
            "  1.000000e+00 0.000000e+00 0.000000e+00 0.000000e+00 0.000000e+00\n",
            "  0.000000e+00 0.000000e+00 0.000000e+00 0.000000e+00 0.000000e+00\n",
            "  0.000000e+00 0.000000e+00 0.000000e+00 1.000000e+00 0.000000e+00\n",
            "  0.000000e+00 0.000000e+00]] [[1.139248e+06 1.176570e+05 7.700000e+01 ... 0.000000e+00 0.000000e+00\n",
            "  0.000000e+00]\n",
            " [1.139249e+06 4.348080e+05 7.009000e+03 ... 0.000000e+00 0.000000e+00\n",
            "  0.000000e+00]\n",
            " [1.139251e+06 1.026470e+06 3.320000e+02 ... 0.000000e+00 0.000000e+00\n",
            "  0.000000e+00]\n",
            " ...\n",
            " [6.333338e+06 1.887659e+06 2.143900e+04 ... 0.000000e+00 0.000000e+00\n",
            "  0.000000e+00]\n",
            " [6.333341e+06 1.903570e+06 2.143500e+04 ... 0.000000e+00 0.000000e+00\n",
            "  0.000000e+00]\n",
            " [6.333342e+06 1.926965e+06 2.143500e+04 ... 0.000000e+00 0.000000e+00\n",
            "  0.000000e+00]]\n"
          ],
          "name": "stdout"
        }
      ]
    },
    {
      "cell_type": "code",
      "metadata": {
        "id": "MtuLqLVhBjRa",
        "colab_type": "code",
        "colab": {
          "base_uri": "https://localhost:8080/",
          "height": 34
        },
        "outputId": "575471ae-7260-4e5c-9f0e-383bd439f2e1"
      },
      "source": [
        "determine_best_split(X, pot, 'regression')"
      ],
      "execution_count": 39,
      "outputs": [
        {
          "output_type": "execute_result",
          "data": {
            "text/plain": [
              "(1, 616902.0)"
            ]
          },
          "metadata": {
            "tags": []
          },
          "execution_count": 39
        }
      ]
    },
    {
      "cell_type": "code",
      "metadata": {
        "id": "ACX7IY2jUxxP",
        "colab_type": "code",
        "colab": {}
      },
      "source": [
        "def determine_type_of_feature(df):\n",
        "    \n",
        "    feature_types = []\n",
        "    n_unique_values_treshold = 15\n",
        "    for feature in df.columns:\n",
        "        if feature != \"label\":\n",
        "            unique_values = df[feature].unique()\n",
        "            example_value = unique_values[0]\n",
        "\n",
        "            if (isinstance(example_value, str)) or (len(unique_values) <= n_unique_values_treshold):\n",
        "                feature_types.append(\"categorical\")\n",
        "            else:\n",
        "                feature_types.append(\"continuous\")\n",
        "    \n",
        "    return feature_types"
      ],
      "execution_count": 0,
      "outputs": []
    },
    {
      "cell_type": "code",
      "metadata": {
        "id": "Zr-fch6KVqzo",
        "colab_type": "code",
        "colab": {
          "base_uri": "https://localhost:8080/",
          "height": 1000
        },
        "outputId": "485a79ee-da78-400b-c584-161ac526153e"
      },
      "source": [
        "determine_type_of_feature(data)"
      ],
      "execution_count": 41,
      "outputs": [
        {
          "output_type": "execute_result",
          "data": {
            "text/plain": [
              "['continuous',\n",
              " 'continuous',\n",
              " 'continuous',\n",
              " 'continuous',\n",
              " 'categorical',\n",
              " 'categorical',\n",
              " 'continuous',\n",
              " 'continuous',\n",
              " 'categorical',\n",
              " 'continuous',\n",
              " 'continuous',\n",
              " 'continuous',\n",
              " 'continuous',\n",
              " 'categorical',\n",
              " 'categorical',\n",
              " 'categorical',\n",
              " 'continuous',\n",
              " 'continuous',\n",
              " 'categorical',\n",
              " 'categorical',\n",
              " 'categorical',\n",
              " 'categorical',\n",
              " 'categorical',\n",
              " 'categorical',\n",
              " 'categorical',\n",
              " 'categorical',\n",
              " 'categorical',\n",
              " 'categorical',\n",
              " 'categorical',\n",
              " 'categorical',\n",
              " 'categorical',\n",
              " 'categorical',\n",
              " 'categorical',\n",
              " 'categorical',\n",
              " 'categorical',\n",
              " 'categorical',\n",
              " 'categorical',\n",
              " 'categorical',\n",
              " 'categorical',\n",
              " 'categorical',\n",
              " 'categorical',\n",
              " 'categorical',\n",
              " 'categorical',\n",
              " 'categorical',\n",
              " 'categorical',\n",
              " 'categorical',\n",
              " 'categorical',\n",
              " 'categorical',\n",
              " 'categorical',\n",
              " 'categorical',\n",
              " 'categorical',\n",
              " 'categorical',\n",
              " 'categorical']"
            ]
          },
          "metadata": {
            "tags": []
          },
          "execution_count": 41
        },
        {
          "output_type": "execute_result",
          "data": {
            "text/plain": [
              "['continuous',\n",
              " 'continuous',\n",
              " 'continuous',\n",
              " 'continuous',\n",
              " 'categorical',\n",
              " 'categorical',\n",
              " 'continuous',\n",
              " 'continuous',\n",
              " 'categorical',\n",
              " 'continuous',\n",
              " 'continuous',\n",
              " 'continuous',\n",
              " 'continuous',\n",
              " 'categorical',\n",
              " 'categorical',\n",
              " 'categorical',\n",
              " 'continuous',\n",
              " 'continuous',\n",
              " 'categorical',\n",
              " 'categorical',\n",
              " 'categorical',\n",
              " 'categorical',\n",
              " 'categorical',\n",
              " 'categorical',\n",
              " 'categorical',\n",
              " 'categorical',\n",
              " 'categorical',\n",
              " 'categorical',\n",
              " 'categorical',\n",
              " 'categorical',\n",
              " 'categorical',\n",
              " 'categorical',\n",
              " 'categorical',\n",
              " 'categorical',\n",
              " 'categorical',\n",
              " 'categorical',\n",
              " 'categorical',\n",
              " 'categorical',\n",
              " 'categorical',\n",
              " 'categorical',\n",
              " 'categorical',\n",
              " 'categorical',\n",
              " 'categorical',\n",
              " 'categorical',\n",
              " 'categorical',\n",
              " 'categorical',\n",
              " 'categorical',\n",
              " 'categorical',\n",
              " 'categorical',\n",
              " 'categorical',\n",
              " 'categorical',\n",
              " 'categorical',\n",
              " 'categorical']"
            ]
          },
          "metadata": {
            "tags": []
          },
          "execution_count": 42
        }
      ]
    },
    {
      "cell_type": "code",
      "metadata": {
        "id": "zdh6CYXFWrP0",
        "colab_type": "code",
        "colab": {}
      },
      "source": [
        "def create_leaf(data, ml_task):\n",
        "    \n",
        "    label_column = data[:, -1]\n",
        "    if ml_task == \"regression\":\n",
        "        leaf = np.mean(label_column)\n",
        "        \n",
        "    # classfication    \n",
        "    else:\n",
        "        unique_classes, counts_unique_classes = np.unique(label_column, return_counts=True)\n",
        "        index = counts_unique_classes.argmax()\n",
        "        leaf = unique_classes[index]\n",
        "    \n",
        "    return leaf"
      ],
      "execution_count": 0,
      "outputs": []
    },
    {
      "cell_type": "code",
      "metadata": {
        "id": "MaOTrty0Vt74",
        "colab_type": "code",
        "colab": {}
      },
      "source": [
        "def decision_tree_algorithm(df, ml_task, counter=0, min_samples=2, max_depth=5):\n",
        "    \n",
        "    # data preparations\n",
        "    if counter == 0:\n",
        "        global COLUMN_HEADERS, FEATURE_TYPES\n",
        "        COLUMN_HEADERS = df.columns\n",
        "        FEATURE_TYPES = determine_type_of_feature(df)\n",
        "        data = df.values\n",
        "    else:\n",
        "        data = df           \n",
        "    \n",
        "    \n",
        "    # base cases\n",
        "    if (len(data) < min_samples) or (counter == max_depth):\n",
        "        leaf = create_leaf(data, ml_task)\n",
        "        return leaf\n",
        "\n",
        "    \n",
        "    # recursive part\n",
        "    else:    \n",
        "        counter += 1\n",
        "\n",
        "        # helper functions \n",
        "        potential_splits = get_potential_splits(data)\n",
        "        split_column, split_value = determine_best_split(data, potential_splits, ml_task)\n",
        "        data_below, data_above = split_data(data, split_column, split_value)\n",
        "        \n",
        "        # check for empty data\n",
        "        if len(data_below) == 0 or len(data_above) == 0:\n",
        "            leaf = create_leaf(data, ml_task)\n",
        "            return leaf\n",
        "        \n",
        "        # determine question\n",
        "        feature_name = COLUMN_HEADERS[split_column]\n",
        "        type_of_feature = FEATURE_TYPES[split_column]\n",
        "        if type_of_feature == \"continuous\":\n",
        "            question = \"{} <= {}\".format(feature_name, split_value)\n",
        "            \n",
        "        # feature is categorical\n",
        "        else:\n",
        "            question = \"{} = {}\".format(feature_name, split_value)\n",
        "        \n",
        "        # instantiate sub-tree\n",
        "        sub_tree = {question: []}\n",
        "        \n",
        "        # find answers (recursion)\n",
        "        yes_answer = decision_tree_algorithm(data_below, ml_task, counter, min_samples, max_depth)\n",
        "        no_answer = decision_tree_algorithm(data_above, ml_task, counter, min_samples, max_depth)\n",
        "        \n",
        "        # If the answers are the same, then there is no point in asking the qestion.\n",
        "        # This could happen when the data is classified even though it is not pure\n",
        "        # yet (min_samples or max_depth base case).\n",
        "        if yes_answer == no_answer:\n",
        "            sub_tree = yes_answer\n",
        "        else:\n",
        "            sub_tree[question].append(yes_answer)\n",
        "            sub_tree[question].append(no_answer)\n",
        "        \n",
        "        return sub_tree"
      ],
      "execution_count": 0,
      "outputs": []
    },
    {
      "cell_type": "code",
      "metadata": {
        "id": "QomXuihFWTjm",
        "colab_type": "code",
        "colab": {
          "base_uri": "https://localhost:8080/",
          "height": 34
        },
        "outputId": "b4b09a18-5d01-4d51-b0ed-925c5f9d60cd"
      },
      "source": [
        "decision_tree_algorithm(data, 'regression')"
      ],
      "execution_count": 51,
      "outputs": [
        {
          "output_type": "execute_result",
          "data": {
            "text/plain": [
              "0.0"
            ]
          },
          "metadata": {
            "tags": []
          },
          "execution_count": 51
        }
      ]
    },
    {
      "cell_type": "code",
      "metadata": {
        "id": "2aHp6uugXYda",
        "colab_type": "code",
        "colab": {}
      },
      "source": [
        ""
      ],
      "execution_count": 0,
      "outputs": []
    }
  ]
}